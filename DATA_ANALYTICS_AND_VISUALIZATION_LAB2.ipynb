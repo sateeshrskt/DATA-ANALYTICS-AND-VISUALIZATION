{
  "nbformat": 4,
  "nbformat_minor": 0,
  "metadata": {
    "colab": {
      "provenance": [],
      "authorship_tag": "ABX9TyPOk1nhuZAZyOe0YHYlHLfE",
      "include_colab_link": true
    },
    "kernelspec": {
      "name": "python3",
      "display_name": "Python 3"
    },
    "language_info": {
      "name": "python"
    }
  },
  "cells": [
    {
      "cell_type": "markdown",
      "metadata": {
        "id": "view-in-github",
        "colab_type": "text"
      },
      "source": [
        "<a href=\"https://colab.research.google.com/github/sateeshrskt/DATA-ANALYTICS-AND-VISUALIZATION/blob/main/DATA_ANALYTICS_AND_VISUALIZATION_LAB2.ipynb\" target=\"_parent\"><img src=\"https://colab.research.google.com/assets/colab-badge.svg\" alt=\"Open In Colab\"/></a>"
      ]
    },
    {
      "cell_type": "code",
      "execution_count": 3,
      "metadata": {
        "colab": {
          "base_uri": "https://localhost:8080/"
        },
        "id": "q_ko-7dLTMcX",
        "outputId": "982bd808-5565-43e5-8461-9efcd1d9060e"
      },
      "outputs": [
        {
          "output_type": "stream",
          "name": "stdout",
          "text": [
            "   patientid   age     bp\n",
            "0          1  25.0  120.0\n",
            "1          2  30.0    NaN\n",
            "2          3   NaN  110.0\n",
            "3          4  40.0  200.0\n",
            "4          5  50.0    NaN\n"
          ]
        }
      ],
      "source": [
        "import pandas as pd\n",
        "import numpy as np\n",
        "\n",
        "data = {'patientid':[1,2,3,4,5],\n",
        "        'age':[25,30,None,40,50],\n",
        "        'bp':[120,None,110,200,None]}\n",
        "df=pd.DataFrame(data)\n",
        "print(df)"
      ]
    },
    {
      "cell_type": "code",
      "source": [
        "\n",
        "df['age'].fillna(df['age'].mean(),inplace=True)\n",
        "print(df)"
      ],
      "metadata": {
        "colab": {
          "base_uri": "https://localhost:8080/"
        },
        "id": "JYYJnGNIVxGu",
        "outputId": "ae35fed2-4375-4664-dfda-f143ba91ed79"
      },
      "execution_count": 5,
      "outputs": [
        {
          "output_type": "stream",
          "name": "stdout",
          "text": [
            "   patientid    age          bp\n",
            "0          1  25.00  120.000000\n",
            "1          2  30.00  143.333333\n",
            "2          3  36.25  110.000000\n",
            "3          4  40.00  200.000000\n",
            "4          5  50.00  143.333333\n"
          ]
        },
        {
          "output_type": "stream",
          "name": "stderr",
          "text": [
            "/tmp/ipython-input-2663668044.py:1: FutureWarning: A value is trying to be set on a copy of a DataFrame or Series through chained assignment using an inplace method.\n",
            "The behavior will change in pandas 3.0. This inplace method will never work because the intermediate object on which we are setting values always behaves as a copy.\n",
            "\n",
            "For example, when doing 'df[col].method(value, inplace=True)', try using 'df.method({col: value}, inplace=True)' or df[col] = df[col].method(value) instead, to perform the operation inplace on the original object.\n",
            "\n",
            "\n",
            "  df['age'].fillna(df['age'].mean(),inplace=True)\n"
          ]
        }
      ]
    },
    {
      "cell_type": "code",
      "source": [
        "df['age'].fillna(df['age'].mean(),inplace=True)\n",
        "print(df)"
      ],
      "metadata": {
        "id": "2PsbPYgQXLNB"
      },
      "execution_count": null,
      "outputs": []
    },
    {
      "cell_type": "code",
      "source": [
        "import pandas as pd\n",
        "\n",
        "data = {'bp':[120, None, None, 123, None]}\n",
        "df = pd.DataFrame(data)\n",
        "df['bp'].fillna(method='ffill', inplace=True)\n",
        "print(df)"
      ],
      "metadata": {
        "colab": {
          "base_uri": "https://localhost:8080/"
        },
        "id": "ogAlszwVZpyU",
        "outputId": "3e881be4-155d-4d7f-aab6-fc5221969d40"
      },
      "execution_count": 9,
      "outputs": [
        {
          "output_type": "stream",
          "name": "stdout",
          "text": [
            "      bp\n",
            "0  120.0\n",
            "1  123.0\n",
            "2  123.0\n",
            "3  123.0\n",
            "4  123.0\n"
          ]
        },
        {
          "output_type": "stream",
          "name": "stderr",
          "text": [
            "/tmp/ipython-input-3046506496.py:5: FutureWarning: A value is trying to be set on a copy of a DataFrame or Series through chained assignment using an inplace method.\n",
            "The behavior will change in pandas 3.0. This inplace method will never work because the intermediate object on which we are setting values always behaves as a copy.\n",
            "\n",
            "For example, when doing 'df[col].method(value, inplace=True)', try using 'df.method({col: value}, inplace=True)' or df[col] = df[col].method(value) instead, to perform the operation inplace on the original object.\n",
            "\n",
            "\n",
            "  df['bp'].fillna(method='bfill', inplace=True)\n",
            "/tmp/ipython-input-3046506496.py:5: FutureWarning: Series.fillna with 'method' is deprecated and will raise in a future version. Use obj.ffill() or obj.bfill() instead.\n",
            "  df['bp'].fillna(method='bfill', inplace=True)\n"
          ]
        }
      ]
    },
    {
      "cell_type": "code",
      "source": [
        "import pandas as pd\n",
        "\n",
        "data = {'orderid': [1, 2, 3, 4],\n",
        "        'product': ['mobile', 'laptop', 'tablet ', 'mobile'],\n",
        "        'amount': [10000, 20000, 30000, 10000]}\n",
        "sales = pd.DataFrame(data)\n",
        "\n",
        "print(sales.duplicated())\n",
        "sales_df = sales.drop_duplicates()\n",
        "print(sales_df)"
      ],
      "metadata": {
        "colab": {
          "base_uri": "https://localhost:8080/"
        },
        "collapsed": true,
        "id": "RFneni3EayYU",
        "outputId": "f7429c8e-0471-410a-cdf2-37d0cc36a51f"
      },
      "execution_count": 12,
      "outputs": [
        {
          "output_type": "stream",
          "name": "stdout",
          "text": [
            "0    False\n",
            "1    False\n",
            "2    False\n",
            "3    False\n",
            "dtype: bool\n",
            "   orderid  product  amount\n",
            "0        1   mobile   10000\n",
            "1        2   laptop   20000\n",
            "2        3  tablet    30000\n",
            "3        4   mobile   10000\n"
          ]
        }
      ]
    },
    {
      "cell_type": "code",
      "metadata": {
        "colab": {
          "base_uri": "https://localhost:8080/"
        },
        "id": "e6233a59",
        "outputId": "154faeea-f911-4048-ec09-7e9148a07c8e"
      },
      "source": [
        "import pandas as pd\n",
        "\n",
        "data = {'patientid':[1, 2, 3, 4, 1, 5],\n",
        "        'age':[25, 30, 45, 40, 25, 50],\n",
        "        'bp':[120, 130, 140, 125, 120, 135]}\n",
        "patient_df = pd.DataFrame(data)\n",
        "\n",
        "\n",
        "print(patient_df.duplicated())\n",
        "patient_df = patient_df.drop_duplicates()\n",
        "print(patient_df)\n",
        "\n",
        "\n"
      ],
      "execution_count": 14,
      "outputs": [
        {
          "output_type": "stream",
          "name": "stdout",
          "text": [
            "0    False\n",
            "1    False\n",
            "2    False\n",
            "3    False\n",
            "4     True\n",
            "5    False\n",
            "dtype: bool\n",
            "   patientid  age   bp\n",
            "0          1   25  120\n",
            "1          2   30  130\n",
            "2          3   45  140\n",
            "3          4   40  125\n",
            "5          5   50  135\n"
          ]
        }
      ]
    }
  ]
}